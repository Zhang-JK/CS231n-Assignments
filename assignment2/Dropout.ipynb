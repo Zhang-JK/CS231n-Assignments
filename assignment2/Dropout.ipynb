{
 "nbformat_minor": 0,
 "nbformat": 4,
 "cells": [
  {
   "source": [
    "# Dropout\n",
    "Dropout [1] is a technique for regularizing neural networks by randomly setting some features to zero during the forward pass. In this exercise you will implement a dropout layer and modify your fully-connected network to optionally use dropout.\n",
    "\n",
    "[1] Geoffrey E. Hinton et al, \"Improving neural networks by preventing co-adaptation of feature detectors\", arXiv 2012"
   ],
   "cell_type": "markdown",
   "metadata": {
    "editable": true,
    "deletable": true
   }
  },
  {
   "execution_count": 1,
   "cell_type": "code",
   "source": [
    "# As usual, a bit of setup\n",
    "from __future__ import print_function\n",
    "import time\n",
    "import numpy as np\n",
    "import matplotlib.pyplot as plt\n",
    "from cs231n.classifiers.fc_net import *\n",
    "from cs231n.data_utils import get_CIFAR10_data\n",
    "from cs231n.gradient_check import eval_numerical_gradient, eval_numerical_gradient_array\n",
    "from cs231n.solver import Solver\n",
    "\n",
    "%matplotlib inline\n",
    "plt.rcParams['figure.figsize'] = (10.0, 8.0) # set default size of plots\n",
    "plt.rcParams['image.interpolation'] = 'nearest'\n",
    "plt.rcParams['image.cmap'] = 'gray'\n",
    "\n",
    "# for auto-reloading external modules\n",
    "# see http://stackoverflow.com/questions/1907993/autoreload-of-modules-in-ipython\n",
    "%load_ext autoreload\n",
    "%autoreload 2\n",
    "\n",
    "def rel_error(x, y):\n",
    "  \"\"\" returns relative error \"\"\"\n",
    "  return np.max(np.abs(x - y) / (np.maximum(1e-8, np.abs(x) + np.abs(y))))"
   ],
   "outputs": [],
   "metadata": {
    "collapsed": false,
    "editable": true,
    "deletable": true
   }
  },
  {
   "execution_count": 2,
   "cell_type": "code",
   "source": [
    "# Load the (preprocessed) CIFAR10 data.\n",
    "\n",
    "data = get_CIFAR10_data()\n",
    "for k, v in data.items():\n",
    "  print('%s: ' % k, v.shape)"
   ],
   "outputs": [
    {
     "name": "stdout",
     "output_type": "stream",
     "text": [
      "X_train:  (49000, 3, 32, 32)\n",
      "y_train:  (49000,)\n",
      "X_val:  (1000, 3, 32, 32)\n",
      "y_val:  (1000,)\n",
      "X_test:  (1000, 3, 32, 32)\n",
      "y_test:  (1000,)\n"
     ]
    }
   ],
   "metadata": {
    "collapsed": false,
    "editable": true,
    "deletable": true
   }
  },
  {
   "source": [
    "# Dropout forward pass\n",
    "In the file `cs231n/layers.py`, implement the forward pass for dropout. Since dropout behaves differently during training and testing, make sure to implement the operation for both modes.\n",
    "\n",
    "Once you have done so, run the cell below to test your implementation."
   ],
   "cell_type": "markdown",
   "metadata": {
    "editable": true,
    "deletable": true
   }
  },
  {
   "execution_count": 3,
   "cell_type": "code",
   "source": [
    "np.random.seed(231)\n",
    "x = np.random.randn(500, 500) + 10\n",
    "\n",
    "for p in [0.3, 0.6, 0.75]:\n",
    "  out, _ = dropout_forward(x, {'mode': 'train', 'p': p})\n",
    "  out_test, _ = dropout_forward(x, {'mode': 'test', 'p': p})\n",
    "\n",
    "  print('Running tests with p = ', p)\n",
    "  print('Mean of input: ', x.mean())\n",
    "  print('Mean of train-time output: ', out.mean())\n",
    "  print('Mean of test-time output: ', out_test.mean())\n",
    "  print('Fraction of train-time output set to zero: ', (out == 0).mean())\n",
    "  print('Fraction of test-time output set to zero: ', (out_test == 0).mean())\n",
    "  print()"
   ],
   "outputs": [
    {
     "name": "stdout",
     "output_type": "stream",
     "text": [
      "Running tests with p =  0.3\n",
      "Mean of input:  10.000207878477502\n",
      "Mean of train-time output:  9.98526577051765\n",
      "Mean of test-time output:  10.000207878477502\n",
      "Fraction of train-time output set to zero:  0.300876\n",
      "Fraction of test-time output set to zero:  0.0\n",
      "\n",
      "Running tests with p =  0.6\n",
      "Mean of input:  10.000207878477502\n",
      "Mean of train-time output:  10.035153558044966\n",
      "Mean of test-time output:  10.000207878477502\n",
      "Fraction of train-time output set to zero:  0.598632\n",
      "Fraction of test-time output set to zero:  0.0\n",
      "\n",
      "Running tests with p =  0.75\n",
      "Mean of input:  10.000207878477502\n",
      "Mean of train-time output:  10.021625749126565\n",
      "Mean of test-time output:  10.000207878477502\n",
      "Fraction of train-time output set to zero:  0.749504\n",
      "Fraction of test-time output set to zero:  0.0\n",
      "\n"
     ]
    }
   ],
   "metadata": {
    "collapsed": false,
    "editable": true,
    "deletable": true
   }
  },
  {
   "source": [
    "# Dropout backward pass\n",
    "In the file `cs231n/layers.py`, implement the backward pass for dropout. After doing so, run the following cell to numerically gradient-check your implementation."
   ],
   "cell_type": "markdown",
   "metadata": {
    "editable": true,
    "deletable": true
   }
  },
  {
   "execution_count": 4,
   "cell_type": "code",
   "source": [
    "np.random.seed(231)\n",
    "x = np.random.randn(10, 10) + 10\n",
    "dout = np.random.randn(*x.shape)\n",
    "\n",
    "dropout_param = {'mode': 'train', 'p': 0.8, 'seed': 123}\n",
    "out, cache = dropout_forward(x, dropout_param)\n",
    "dx = dropout_backward(dout, cache)\n",
    "dx_num = eval_numerical_gradient_array(lambda xx: dropout_forward(xx, dropout_param)[0], x, dout)\n",
    "\n",
    "print('dx relative error: ', rel_error(dx, dx_num))"
   ],
   "outputs": [
    {
     "name": "stdout",
     "output_type": "stream",
     "text": [
      "dx relative error:  1.8929083557408183e-11\n"
     ]
    }
   ],
   "metadata": {
    "collapsed": false,
    "editable": true,
    "deletable": true
   }
  },
  {
   "source": [
    "# Fully-connected nets with Dropout\n",
    "In the file `cs231n/classifiers/fc_net.py`, modify your implementation to use dropout. Specificially, if the constructor the the net receives a nonzero value for the `dropout` parameter, then the net should add dropout immediately after every ReLU nonlinearity. After doing so, run the following to numerically gradient-check your implementation."
   ],
   "cell_type": "markdown",
   "metadata": {
    "editable": true,
    "deletable": true
   }
  },
  {
   "execution_count": 5,
   "cell_type": "code",
   "source": [
    "np.random.seed(231)\n",
    "N, D, H1, H2, C = 2, 15, 20, 30, 10\n",
    "X = np.random.randn(N, D)\n",
    "y = np.random.randint(C, size=(N,))\n",
    "\n",
    "for dropout in [0, 0.25, 0.5]:\n",
    "  print('Running check with dropout = ', dropout)\n",
    "  model = FullyConnectedNet([H1, H2], input_dim=D, num_classes=C,\n",
    "                            weight_scale=5e-2, dtype=np.float64,\n",
    "                            dropout=dropout, seed=123)\n",
    "\n",
    "  loss, grads = model.loss(X, y)\n",
    "  print('Initial loss: ', loss)\n",
    "\n",
    "  for name in sorted(grads):\n",
    "    f = lambda _: model.loss(X, y)[0]\n",
    "    grad_num = eval_numerical_gradient(f, model.params[name], verbose=False, h=1e-5)\n",
    "    print('%s relative error: %.2e' % (name, rel_error(grad_num, grads[name])))\n",
    "  print()"
   ],
   "outputs": [
    {
     "name": "stdout",
     "output_type": "stream",
     "text": [
      "Running check with dropout =  0\n",
      "Initial loss:  2.3004790897684924\n",
      "W1 relative error: 1.48e-07\n",
      "W2 relative error: 2.21e-05\n",
      "W3 relative error: 3.53e-07\n",
      "b1 relative error: 5.38e-09\n",
      "b2 relative error: 2.09e-09\n",
      "b3 relative error: 5.80e-11\n",
      "\n",
      "Running check with dropout =  0.25\n",
      "Initial loss:  2.3048692151235994\n",
      "W1 relative error: 2.47e-07\n",
      "W2 relative error: 1.69e-06\n",
      "W3 relative error: 8.70e-07\n",
      "b1 relative error: 7.84e-09\n",
      "b2 relative error: 6.85e-09\n",
      "b3 relative error: 1.13e-10\n",
      "\n",
      "Running check with dropout =  0.5\n",
      "Initial loss:  2.310136908722148\n",
      "W1 relative error: 2.57e-08\n",
      "W2 relative error: 1.49e-08\n",
      "W3 relative error: 4.49e-08\n",
      "b1 relative error: 1.35e-09\n",
      "b2 relative error: 1.91e-09\n",
      "b3 relative error: 9.51e-11\n",
      "\n"
     ]
    }
   ],
   "metadata": {
    "collapsed": false,
    "editable": true,
    "deletable": true
   }
  },
  {
   "source": [
    "# Regularization experiment\n",
    "As an experiment, we will train a pair of two-layer networks on 500 training examples: one will use no dropout, and one will use a dropout probability of 0.75. We will then visualize the training and validation accuracies of the two networks over time."
   ],
   "cell_type": "markdown",
   "metadata": {
    "editable": true,
    "deletable": true
   }
  },
  {
   "execution_count": 6,
   "cell_type": "code",
   "source": [
    "# Train two identical nets, one with dropout and one without\n",
    "np.random.seed(231)\n",
    "num_train = 500\n",
    "small_data = {\n",
    "  'X_train': data['X_train'][:num_train],\n",
    "  'y_train': data['y_train'][:num_train],\n",
    "  'X_val': data['X_val'],\n",
    "  'y_val': data['y_val'],\n",
    "}\n",
    "\n",
    "solvers = {}\n",
    "dropout_choices = [0, 0.75]\n",
    "for dropout in dropout_choices:\n",
    "  model = FullyConnectedNet([500], dropout=dropout)\n",
    "  print(dropout)\n",
    "\n",
    "  solver = Solver(model, small_data,\n",
    "                  num_epochs=25, batch_size=100,\n",
    "                  update_rule='adam',\n",
    "                  optim_config={\n",
    "                    'learning_rate': 5e-4,\n",
    "                  },\n",
    "                  verbose=True, print_every=100)\n",
    "  solver.train()\n",
    "  solvers[dropout] = solver"
   ],
   "outputs": [
    {
     "name": "stdout",
     "output_type": "stream",
     "text": [
      "0\n",
      "(Iteration 1 / 125) loss: 7.856644\n",
      "(Epoch 0 / 25) train acc: 0.260000; val_acc: 0.184000\n",
      "(Epoch 1 / 25) train acc: 0.404000; val_acc: 0.259000\n",
      "(Epoch 2 / 25) train acc: 0.468000; val_acc: 0.248000\n",
      "(Epoch 3 / 25) train acc: 0.526000; val_acc: 0.247000\n",
      "(Epoch 4 / 25) train acc: 0.646000; val_acc: 0.273000\n",
      "(Epoch 5 / 25) train acc: 0.686000; val_acc: 0.259000\n",
      "(Epoch 6 / 25) train acc: 0.698000; val_acc: 0.263000\n",
      "(Epoch 7 / 25) train acc: 0.762000; val_acc: 0.257000\n",
      "(Epoch 8 / 25) train acc: 0.834000; val_acc: 0.260000\n",
      "(Epoch 9 / 25) train acc: 0.860000; val_acc: 0.281000\n",
      "(Epoch 10 / 25) train acc: 0.894000; val_acc: 0.280000\n",
      "(Epoch 11 / 25) train acc: 0.914000; val_acc: 0.277000\n",
      "(Epoch 12 / 25) train acc: 0.932000; val_acc: 0.315000\n",
      "(Epoch 13 / 25) train acc: 0.940000; val_acc: 0.297000\n",
      "(Epoch 14 / 25) train acc: 0.978000; val_acc: 0.304000\n",
      "(Epoch 15 / 25) train acc: 0.946000; val_acc: 0.294000\n",
      "(Epoch 16 / 25) train acc: 0.974000; val_acc: 0.305000\n",
      "(Epoch 17 / 25) train acc: 0.980000; val_acc: 0.309000\n",
      "(Epoch 18 / 25) train acc: 0.994000; val_acc: 0.311000\n",
      "(Epoch 19 / 25) train acc: 0.990000; val_acc: 0.316000\n",
      "(Epoch 20 / 25) train acc: 0.990000; val_acc: 0.306000\n",
      "(Iteration 101 / 125) loss: 0.033178\n",
      "(Epoch 21 / 25) train acc: 0.996000; val_acc: 0.305000\n",
      "(Epoch 22 / 25) train acc: 0.988000; val_acc: 0.306000\n",
      "(Epoch 23 / 25) train acc: 0.990000; val_acc: 0.299000\n",
      "(Epoch 24 / 25) train acc: 1.000000; val_acc: 0.303000\n",
      "(Epoch 25 / 25) train acc: 1.000000; val_acc: 0.295000\n",
      "0.75\n",
      "(Iteration 1 / 125) loss: 19.352449\n",
      "(Epoch 0 / 25) train acc: 0.256000; val_acc: 0.193000\n",
      "(Epoch 1 / 25) train acc: 0.382000; val_acc: 0.247000\n",
      "(Epoch 2 / 25) train acc: 0.448000; val_acc: 0.279000\n",
      "(Epoch 3 / 25) train acc: 0.480000; val_acc: 0.273000\n",
      "(Epoch 4 / 25) train acc: 0.502000; val_acc: 0.296000\n",
      "(Epoch 5 / 25) train acc: 0.576000; val_acc: 0.314000\n",
      "(Epoch 6 / 25) train acc: 0.598000; val_acc: 0.295000\n",
      "(Epoch 7 / 25) train acc: 0.664000; val_acc: 0.326000\n",
      "(Epoch 8 / 25) train acc: 0.652000; val_acc: 0.304000\n",
      "(Epoch 9 / 25) train acc: 0.700000; val_acc: 0.303000\n",
      "(Epoch 10 / 25) train acc: 0.754000; val_acc: 0.306000\n",
      "(Epoch 11 / 25) train acc: 0.744000; val_acc: 0.302000\n",
      "(Epoch 12 / 25) train acc: 0.684000; val_acc: 0.272000\n",
      "(Epoch 13 / 25) train acc: 0.752000; val_acc: 0.298000\n",
      "(Epoch 14 / 25) train acc: 0.744000; val_acc: 0.301000\n",
      "(Epoch 15 / 25) train acc: 0.824000; val_acc: 0.309000\n",
      "(Epoch 16 / 25) train acc: 0.828000; val_acc: 0.303000\n",
      "(Epoch 17 / 25) train acc: 0.846000; val_acc: 0.319000\n",
      "(Epoch 18 / 25) train acc: 0.844000; val_acc: 0.334000\n",
      "(Epoch 19 / 25) train acc: 0.874000; val_acc: 0.332000\n",
      "(Epoch 20 / 25) train acc: 0.912000; val_acc: 0.331000\n",
      "(Iteration 101 / 125) loss: 7.845523\n",
      "(Epoch 21 / 25) train acc: 0.916000; val_acc: 0.320000\n",
      "(Epoch 22 / 25) train acc: 0.908000; val_acc: 0.306000\n",
      "(Epoch 23 / 25) train acc: 0.932000; val_acc: 0.311000\n",
      "(Epoch 24 / 25) train acc: 0.934000; val_acc: 0.308000\n",
      "(Epoch 25 / 25) train acc: 0.948000; val_acc: 0.320000\n"
     ]
    }
   ],
   "metadata": {
    "scrolled": false,
    "collapsed": false,
    "editable": true,
    "deletable": true
   }
  },
  {
   "execution_count": 7,
   "cell_type": "code",
   "source": [
    "# Plot train and validation accuracies of the two models\n",
    "\n",
    "train_accs = []\n",
    "val_accs = []\n",
    "for dropout in dropout_choices:\n",
    "  solver = solvers[dropout]\n",
    "  train_accs.append(solver.train_acc_history[-1])\n",
    "  val_accs.append(solver.val_acc_history[-1])\n",
    "\n",
    "plt.subplot(3, 1, 1)\n",
    "for dropout in dropout_choices:\n",
    "  plt.plot(solvers[dropout].train_acc_history, 'o', label='%.2f dropout' % dropout)\n",
    "plt.title('Train accuracy')\n",
    "plt.xlabel('Epoch')\n",
    "plt.ylabel('Accuracy')\n",
    "plt.legend(ncol=2, loc='lower right')\n",
    "  \n",
    "plt.subplot(3, 1, 2)\n",
    "for dropout in dropout_choices:\n",
    "  plt.plot(solvers[dropout].val_acc_history, 'o', label='%.2f dropout' % dropout)\n",
    "plt.title('Val accuracy')\n",
    "plt.xlabel('Epoch')\n",
    "plt.ylabel('Accuracy')\n",
    "plt.legend(ncol=2, loc='lower right')\n",
    "\n",
    "plt.gcf().set_size_inches(15, 15)\n",
    "plt.show()"
   ],
   "outputs": [
    {
     "data": {
      "text/plain": "<Figure size 1500x1500 with 2 Axes>",
      "image/png": "[encoded data removed]"
     },
     "metadata": {},
     "output_type": "display_data"
    }
   ],
   "metadata": {
    "collapsed": false,
    "editable": true,
    "deletable": true
   }
  },
  {
   "source": [
    "# Question\n",
    "Explain what you see in this experiment. What does it suggest about dropout?"
   ],
   "cell_type": "markdown",
   "metadata": {
    "editable": true,
    "deletable": true
   }
  },
  {
   "source": [
    "# Answer\n",
    "The model who uses dropout its training accuracy is always lower but the validation is always higher than the one not using dropout.\n",
    "This means dropout can **prevent overfit**. By randomly disable some nodes, it is similar to training many different small nets."
   ],
   "cell_type": "markdown",
   "metadata": {
    "editable": true,
    "deletable": true
   }
  }
 ],
 "metadata": {
  "kernelspec": {
   "name": "python3",
   "language": "python",
   "display_name": "Python 3 (ipykernel)"
  },
  "language_info": {
   "mimetype": "text/x-python",
   "nbconvert_exporter": "python",
   "name": "python",
   "file_extension": ".py",
   "version": "2.7.12+",
   "pygments_lexer": "ipython2",
   "codemirror_mode": {
    "version": 2,
    "name": "ipython"
   }
  }
 }
}
